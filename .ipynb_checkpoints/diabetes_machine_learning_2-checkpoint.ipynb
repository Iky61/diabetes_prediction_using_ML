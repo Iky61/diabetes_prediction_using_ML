{
 "cells": [
  {
   "cell_type": "code",
   "execution_count": 1,
   "id": "c91c3405-36f0-4ab8-b97e-31c3b9309c15",
   "metadata": {},
   "outputs": [],
   "source": [
    "import pandas as pd\n",
    "import numpy as np\n",
    "import matplotlib.pyplot as plt\n",
    "import seaborn as sn\n",
    "import warnings\n",
    "\n",
    "from sklearn.linear_model import LogisticRegression\n",
    "from sklearn.ensemble import RandomForestClassifier\n",
    "from sklearn.tree import DecisionTreeClassifier\n",
    "from sklearn.svm import SVC\n",
    "from sklearn.neighbors import KNeighborsClassifier\n",
    "\n",
    "from sklearn.model_selection import train_test_split, cross_val_score\n",
    "from sklearn.metrics import confusion_matrix, classification_report\n",
    "\n",
    "warnings.filterwarnings(\"ignore\", category=DeprecationWarning) \n",
    "warnings.filterwarnings(\"ignore\", category=FutureWarning) \n",
    "warnings.filterwarnings(\"ignore\", category=UserWarning) \n",
    "\n",
    "%config InlineBackend.figure_format = 'retina'\n",
    "\n",
    "# to display all columns and rows:\n",
    "pd.set_option('display.max_columns', None); pd.set_option('display.max_rows', None);  # to display all columns and rows\n",
    "pd.set_option('display.float_format', lambda x: '%.2f' % x) # The number of numbers that will be shown after the comma."
   ]
  },
  {
   "cell_type": "code",
   "execution_count": 2,
   "id": "d38ff144-2f24-421c-b2d2-f5e2e9fe0425",
   "metadata": {},
   "outputs": [
    {
     "data": {
      "text/html": [
       "<div>\n",
       "<style scoped>\n",
       "    .dataframe tbody tr th:only-of-type {\n",
       "        vertical-align: middle;\n",
       "    }\n",
       "\n",
       "    .dataframe tbody tr th {\n",
       "        vertical-align: top;\n",
       "    }\n",
       "\n",
       "    .dataframe thead th {\n",
       "        text-align: right;\n",
       "    }\n",
       "</style>\n",
       "<table border=\"1\" class=\"dataframe\">\n",
       "  <thead>\n",
       "    <tr style=\"text-align: right;\">\n",
       "      <th></th>\n",
       "      <th>Pregnancies</th>\n",
       "      <th>Glucose</th>\n",
       "      <th>BloodPressure</th>\n",
       "      <th>SkinThickness</th>\n",
       "      <th>Insulin</th>\n",
       "      <th>BMI</th>\n",
       "      <th>DiabetesPedigreeFunction</th>\n",
       "      <th>Age</th>\n",
       "      <th>Outcome</th>\n",
       "    </tr>\n",
       "  </thead>\n",
       "  <tbody>\n",
       "    <tr>\n",
       "      <th>0</th>\n",
       "      <td>6</td>\n",
       "      <td>148</td>\n",
       "      <td>72</td>\n",
       "      <td>35</td>\n",
       "      <td>0</td>\n",
       "      <td>33.60</td>\n",
       "      <td>0.63</td>\n",
       "      <td>50</td>\n",
       "      <td>1</td>\n",
       "    </tr>\n",
       "    <tr>\n",
       "      <th>1</th>\n",
       "      <td>1</td>\n",
       "      <td>85</td>\n",
       "      <td>66</td>\n",
       "      <td>29</td>\n",
       "      <td>0</td>\n",
       "      <td>26.60</td>\n",
       "      <td>0.35</td>\n",
       "      <td>31</td>\n",
       "      <td>0</td>\n",
       "    </tr>\n",
       "    <tr>\n",
       "      <th>2</th>\n",
       "      <td>8</td>\n",
       "      <td>183</td>\n",
       "      <td>64</td>\n",
       "      <td>0</td>\n",
       "      <td>0</td>\n",
       "      <td>23.30</td>\n",
       "      <td>0.67</td>\n",
       "      <td>32</td>\n",
       "      <td>1</td>\n",
       "    </tr>\n",
       "    <tr>\n",
       "      <th>3</th>\n",
       "      <td>1</td>\n",
       "      <td>89</td>\n",
       "      <td>66</td>\n",
       "      <td>23</td>\n",
       "      <td>94</td>\n",
       "      <td>28.10</td>\n",
       "      <td>0.17</td>\n",
       "      <td>21</td>\n",
       "      <td>0</td>\n",
       "    </tr>\n",
       "    <tr>\n",
       "      <th>4</th>\n",
       "      <td>0</td>\n",
       "      <td>137</td>\n",
       "      <td>40</td>\n",
       "      <td>35</td>\n",
       "      <td>168</td>\n",
       "      <td>43.10</td>\n",
       "      <td>2.29</td>\n",
       "      <td>33</td>\n",
       "      <td>1</td>\n",
       "    </tr>\n",
       "  </tbody>\n",
       "</table>\n",
       "</div>"
      ],
      "text/plain": [
       "   Pregnancies  Glucose  BloodPressure  SkinThickness  Insulin   BMI  \\\n",
       "0            6      148             72             35        0 33.60   \n",
       "1            1       85             66             29        0 26.60   \n",
       "2            8      183             64              0        0 23.30   \n",
       "3            1       89             66             23       94 28.10   \n",
       "4            0      137             40             35      168 43.10   \n",
       "\n",
       "   DiabetesPedigreeFunction  Age  Outcome  \n",
       "0                      0.63   50        1  \n",
       "1                      0.35   31        0  \n",
       "2                      0.67   32        1  \n",
       "3                      0.17   21        0  \n",
       "4                      2.29   33        1  "
      ]
     },
     "execution_count": 2,
     "metadata": {},
     "output_type": "execute_result"
    }
   ],
   "source": [
    "df = pd.read_csv('diabetes.csv')\n",
    "df.head()"
   ]
  },
  {
   "cell_type": "markdown",
   "id": "d9bdbd82-7cc4-4095-b432-c716fba89761",
   "metadata": {
    "jp-MarkdownHeadingCollapsed": true,
    "tags": []
   },
   "source": [
    "### **1. EDA (Exploratory of Data Analysis)**"
   ]
  },
  {
   "cell_type": "code",
   "execution_count": 3,
   "id": "a33aeb0a-7289-4c8e-b0bb-6721b1e4c79d",
   "metadata": {},
   "outputs": [
    {
     "data": {
      "text/plain": [
       "(768, 9)"
      ]
     },
     "execution_count": 3,
     "metadata": {},
     "output_type": "execute_result"
    }
   ],
   "source": [
    "df.shape"
   ]
  },
  {
   "cell_type": "code",
   "execution_count": 4,
   "id": "4febac98-5f22-4cfa-94c2-52183c18ce42",
   "metadata": {},
   "outputs": [
    {
     "data": {
      "text/plain": [
       "Index(['Pregnancies', 'Glucose', 'BloodPressure', 'SkinThickness', 'Insulin',\n",
       "       'BMI', 'DiabetesPedigreeFunction', 'Age', 'Outcome'],\n",
       "      dtype='object')"
      ]
     },
     "execution_count": 4,
     "metadata": {},
     "output_type": "execute_result"
    }
   ],
   "source": [
    "df.columns"
   ]
  },
  {
   "cell_type": "code",
   "execution_count": 5,
   "id": "f3ea072c-c8d5-4103-85e8-5ce915c2b912",
   "metadata": {},
   "outputs": [
    {
     "data": {
      "text/html": [
       "<div>\n",
       "<style scoped>\n",
       "    .dataframe tbody tr th:only-of-type {\n",
       "        vertical-align: middle;\n",
       "    }\n",
       "\n",
       "    .dataframe tbody tr th {\n",
       "        vertical-align: top;\n",
       "    }\n",
       "\n",
       "    .dataframe thead th {\n",
       "        text-align: right;\n",
       "    }\n",
       "</style>\n",
       "<table border=\"1\" class=\"dataframe\">\n",
       "  <thead>\n",
       "    <tr style=\"text-align: right;\">\n",
       "      <th></th>\n",
       "      <th>Pregnancies</th>\n",
       "      <th>Glucose</th>\n",
       "      <th>BloodPressure</th>\n",
       "      <th>SkinThickness</th>\n",
       "      <th>Insulin</th>\n",
       "      <th>BMI</th>\n",
       "      <th>DiabetesPedigreeFunction</th>\n",
       "      <th>Age</th>\n",
       "      <th>Outcome</th>\n",
       "    </tr>\n",
       "  </thead>\n",
       "  <tbody>\n",
       "    <tr>\n",
       "      <th>count</th>\n",
       "      <td>768.00</td>\n",
       "      <td>768.00</td>\n",
       "      <td>768.00</td>\n",
       "      <td>768.00</td>\n",
       "      <td>768.00</td>\n",
       "      <td>768.00</td>\n",
       "      <td>768.00</td>\n",
       "      <td>768.00</td>\n",
       "      <td>768.00</td>\n",
       "    </tr>\n",
       "    <tr>\n",
       "      <th>mean</th>\n",
       "      <td>3.85</td>\n",
       "      <td>120.89</td>\n",
       "      <td>69.11</td>\n",
       "      <td>20.54</td>\n",
       "      <td>79.80</td>\n",
       "      <td>31.99</td>\n",
       "      <td>0.47</td>\n",
       "      <td>33.24</td>\n",
       "      <td>0.35</td>\n",
       "    </tr>\n",
       "    <tr>\n",
       "      <th>std</th>\n",
       "      <td>3.37</td>\n",
       "      <td>31.97</td>\n",
       "      <td>19.36</td>\n",
       "      <td>15.95</td>\n",
       "      <td>115.24</td>\n",
       "      <td>7.88</td>\n",
       "      <td>0.33</td>\n",
       "      <td>11.76</td>\n",
       "      <td>0.48</td>\n",
       "    </tr>\n",
       "    <tr>\n",
       "      <th>min</th>\n",
       "      <td>0.00</td>\n",
       "      <td>0.00</td>\n",
       "      <td>0.00</td>\n",
       "      <td>0.00</td>\n",
       "      <td>0.00</td>\n",
       "      <td>0.00</td>\n",
       "      <td>0.08</td>\n",
       "      <td>21.00</td>\n",
       "      <td>0.00</td>\n",
       "    </tr>\n",
       "    <tr>\n",
       "      <th>25%</th>\n",
       "      <td>1.00</td>\n",
       "      <td>99.00</td>\n",
       "      <td>62.00</td>\n",
       "      <td>0.00</td>\n",
       "      <td>0.00</td>\n",
       "      <td>27.30</td>\n",
       "      <td>0.24</td>\n",
       "      <td>24.00</td>\n",
       "      <td>0.00</td>\n",
       "    </tr>\n",
       "    <tr>\n",
       "      <th>50%</th>\n",
       "      <td>3.00</td>\n",
       "      <td>117.00</td>\n",
       "      <td>72.00</td>\n",
       "      <td>23.00</td>\n",
       "      <td>30.50</td>\n",
       "      <td>32.00</td>\n",
       "      <td>0.37</td>\n",
       "      <td>29.00</td>\n",
       "      <td>0.00</td>\n",
       "    </tr>\n",
       "    <tr>\n",
       "      <th>75%</th>\n",
       "      <td>6.00</td>\n",
       "      <td>140.25</td>\n",
       "      <td>80.00</td>\n",
       "      <td>32.00</td>\n",
       "      <td>127.25</td>\n",
       "      <td>36.60</td>\n",
       "      <td>0.63</td>\n",
       "      <td>41.00</td>\n",
       "      <td>1.00</td>\n",
       "    </tr>\n",
       "    <tr>\n",
       "      <th>max</th>\n",
       "      <td>17.00</td>\n",
       "      <td>199.00</td>\n",
       "      <td>122.00</td>\n",
       "      <td>99.00</td>\n",
       "      <td>846.00</td>\n",
       "      <td>67.10</td>\n",
       "      <td>2.42</td>\n",
       "      <td>81.00</td>\n",
       "      <td>1.00</td>\n",
       "    </tr>\n",
       "  </tbody>\n",
       "</table>\n",
       "</div>"
      ],
      "text/plain": [
       "       Pregnancies  Glucose  BloodPressure  SkinThickness  Insulin    BMI  \\\n",
       "count       768.00   768.00         768.00         768.00   768.00 768.00   \n",
       "mean          3.85   120.89          69.11          20.54    79.80  31.99   \n",
       "std           3.37    31.97          19.36          15.95   115.24   7.88   \n",
       "min           0.00     0.00           0.00           0.00     0.00   0.00   \n",
       "25%           1.00    99.00          62.00           0.00     0.00  27.30   \n",
       "50%           3.00   117.00          72.00          23.00    30.50  32.00   \n",
       "75%           6.00   140.25          80.00          32.00   127.25  36.60   \n",
       "max          17.00   199.00         122.00          99.00   846.00  67.10   \n",
       "\n",
       "       DiabetesPedigreeFunction    Age  Outcome  \n",
       "count                    768.00 768.00   768.00  \n",
       "mean                       0.47  33.24     0.35  \n",
       "std                        0.33  11.76     0.48  \n",
       "min                        0.08  21.00     0.00  \n",
       "25%                        0.24  24.00     0.00  \n",
       "50%                        0.37  29.00     0.00  \n",
       "75%                        0.63  41.00     1.00  \n",
       "max                        2.42  81.00     1.00  "
      ]
     },
     "execution_count": 5,
     "metadata": {},
     "output_type": "execute_result"
    }
   ],
   "source": [
    "df.describe()"
   ]
  },
  {
   "cell_type": "code",
   "execution_count": 6,
   "id": "d569c11a-2832-4ac3-94df-aa1c0b4e9bfa",
   "metadata": {},
   "outputs": [
    {
     "name": "stdout",
     "output_type": "stream",
     "text": [
      "1. Outcome [0] => 500 : 65.104167 %\n",
      "2. Outcome [1] => 268 : 34.895833 %\n"
     ]
    }
   ],
   "source": [
    "for i in range(0,2):\n",
    "    n = i+1\n",
    "    outcome = (df['Outcome'].value_counts())[i]\n",
    "    percentage = (df['Outcome'].value_counts()*100/len(df))[i]\n",
    "    print('%i. Outcome [%i] => %i : %f %%'%(n, i, outcome, percentage))"
   ]
  },
  {
   "cell_type": "code",
   "execution_count": 7,
   "id": "726452c5-e062-4ff8-80f1-cc20aa4ac5f4",
   "metadata": {},
   "outputs": [
    {
     "data": {
      "image/png": "[encoded data removed]",
      "text/plain": [
       "<Figure size 720x360 with 1 Axes>"
      ]
     },
     "metadata": {
      "image/png": {
       "height": 351,
       "width": 712
      },
      "needs_background": "light"
     },
     "output_type": "display_data"
    }
   ],
   "source": [
    "plt.figure(figsize=(10, 5))\n",
    "df['Age'].hist(edgecolor='black')\n",
    "plt.title('Many Diabetes Data of Age', fontsize=15, c='green', pad=10)\n",
    "plt.xlabel('Age Label', fontsize=15, c='g')\n",
    "plt.ylabel('Many Patiens', fontsize=15,c='g')\n",
    "plt.tight_layout()\n",
    "plt.show()"
   ]
  },
  {
   "cell_type": "markdown",
   "id": "28e0af76-3924-450e-95d4-397e21cefbd2",
   "metadata": {
    "jp-MarkdownHeadingCollapsed": true,
    "tags": []
   },
   "source": [
    "### **2. Missing Value Analysis**"
   ]
  },
  {
   "cell_type": "code",
   "execution_count": 8,
   "id": "c4d84fbc-cd68-4507-84e9-043acbc08c03",
   "metadata": {},
   "outputs": [
    {
     "data": {
      "text/plain": [
       "Pregnancies                 0\n",
       "Glucose                     0\n",
       "BloodPressure               0\n",
       "SkinThickness               0\n",
       "Insulin                     0\n",
       "BMI                         0\n",
       "DiabetesPedigreeFunction    0\n",
       "Age                         0\n",
       "Outcome                     0\n",
       "dtype: int64"
      ]
     },
     "execution_count": 8,
     "metadata": {},
     "output_type": "execute_result"
    }
   ],
   "source": [
    "df.isna().sum()"
   ]
  },
  {
   "cell_type": "markdown",
   "id": "29c3d240-79f5-4804-95bf-9ae04620e0fb",
   "metadata": {},
   "source": [
    "**if we look at the data, at first glance it looks like there is no null data. However, upon closer inspection, they filled in the null data with the number 0 except for the Outcome, Pregnancies, DiabetesPedigreeFunction, Age columns.**"
   ]
  },
  {
   "cell_type": "code",
   "execution_count": 9,
   "id": "285f62ff-f594-499e-b05e-5cace55336c7",
   "metadata": {},
   "outputs": [
    {
     "data": {
      "text/plain": [
       "Pregnancies                   0\n",
       "Glucose                       5\n",
       "BloodPressure                35\n",
       "SkinThickness               227\n",
       "Insulin                     374\n",
       "BMI                          11\n",
       "DiabetesPedigreeFunction      0\n",
       "Age                           0\n",
       "Outcome                       0\n",
       "dtype: int64"
      ]
     },
     "execution_count": 9,
     "metadata": {},
     "output_type": "execute_result"
    }
   ],
   "source": [
    "columns = ['Glucose', 'BloodPressure', 'SkinThickness', 'Insulin','BMI']\n",
    "df[columns] = df[columns].replace(0, np.NaN)\n",
    "df.isna().sum()"
   ]
  },
  {
   "cell_type": "code",
   "execution_count": 10,
   "id": "b3168ee2-10e2-46b7-98d6-19b894da9823",
   "metadata": {},
   "outputs": [
    {
     "name": "stdout",
     "output_type": "stream",
     "text": [
      "Percentage of null data : 84.895833 %\n"
     ]
    }
   ],
   "source": [
    "percentage_null_data = df.isna().sum().sum()*100/len(df)\n",
    "print('Percentage of null data : %f %%'%(percentage_null_data))"
   ]
  },
  {
   "cell_type": "code",
   "execution_count": 11,
   "id": "be6f6f7e-54b7-4ff5-91e6-cf95b144d7b0",
   "metadata": {},
   "outputs": [
    {
     "data": {
      "text/html": [
       "<div>\n",
       "<style scoped>\n",
       "    .dataframe tbody tr th:only-of-type {\n",
       "        vertical-align: middle;\n",
       "    }\n",
       "\n",
       "    .dataframe tbody tr th {\n",
       "        vertical-align: top;\n",
       "    }\n",
       "\n",
       "    .dataframe thead th {\n",
       "        text-align: right;\n",
       "    }\n",
       "</style>\n",
       "<table border=\"1\" class=\"dataframe\">\n",
       "  <thead>\n",
       "    <tr style=\"text-align: right;\">\n",
       "      <th></th>\n",
       "      <th>Glucose</th>\n",
       "      <th>BloodPressure</th>\n",
       "      <th>SkinThickness</th>\n",
       "      <th>Insulin</th>\n",
       "      <th>BMI</th>\n",
       "    </tr>\n",
       "  </thead>\n",
       "  <tbody>\n",
       "    <tr>\n",
       "      <th>count</th>\n",
       "      <td>763.00</td>\n",
       "      <td>733.00</td>\n",
       "      <td>541.00</td>\n",
       "      <td>394.00</td>\n",
       "      <td>757.00</td>\n",
       "    </tr>\n",
       "    <tr>\n",
       "      <th>mean</th>\n",
       "      <td>121.69</td>\n",
       "      <td>72.41</td>\n",
       "      <td>29.15</td>\n",
       "      <td>155.55</td>\n",
       "      <td>32.46</td>\n",
       "    </tr>\n",
       "    <tr>\n",
       "      <th>std</th>\n",
       "      <td>30.54</td>\n",
       "      <td>12.38</td>\n",
       "      <td>10.48</td>\n",
       "      <td>118.78</td>\n",
       "      <td>6.92</td>\n",
       "    </tr>\n",
       "    <tr>\n",
       "      <th>min</th>\n",
       "      <td>44.00</td>\n",
       "      <td>24.00</td>\n",
       "      <td>7.00</td>\n",
       "      <td>14.00</td>\n",
       "      <td>18.20</td>\n",
       "    </tr>\n",
       "    <tr>\n",
       "      <th>25%</th>\n",
       "      <td>99.00</td>\n",
       "      <td>64.00</td>\n",
       "      <td>22.00</td>\n",
       "      <td>76.25</td>\n",
       "      <td>27.50</td>\n",
       "    </tr>\n",
       "    <tr>\n",
       "      <th>50%</th>\n",
       "      <td>117.00</td>\n",
       "      <td>72.00</td>\n",
       "      <td>29.00</td>\n",
       "      <td>125.00</td>\n",
       "      <td>32.30</td>\n",
       "    </tr>\n",
       "    <tr>\n",
       "      <th>75%</th>\n",
       "      <td>141.00</td>\n",
       "      <td>80.00</td>\n",
       "      <td>36.00</td>\n",
       "      <td>190.00</td>\n",
       "      <td>36.60</td>\n",
       "    </tr>\n",
       "    <tr>\n",
       "      <th>max</th>\n",
       "      <td>199.00</td>\n",
       "      <td>122.00</td>\n",
       "      <td>99.00</td>\n",
       "      <td>846.00</td>\n",
       "      <td>67.10</td>\n",
       "    </tr>\n",
       "  </tbody>\n",
       "</table>\n",
       "</div>"
      ],
      "text/plain": [
       "       Glucose  BloodPressure  SkinThickness  Insulin    BMI\n",
       "count   763.00         733.00         541.00   394.00 757.00\n",
       "mean    121.69          72.41          29.15   155.55  32.46\n",
       "std      30.54          12.38          10.48   118.78   6.92\n",
       "min      44.00          24.00           7.00    14.00  18.20\n",
       "25%      99.00          64.00          22.00    76.25  27.50\n",
       "50%     117.00          72.00          29.00   125.00  32.30\n",
       "75%     141.00          80.00          36.00   190.00  36.60\n",
       "max     199.00         122.00          99.00   846.00  67.10"
      ]
     },
     "execution_count": 11,
     "metadata": {},
     "output_type": "execute_result"
    }
   ],
   "source": [
    "# check the std of the data column. If std < mean then it provides information that the variation of a value is small then we can use the mean value to fill in null data\n",
    "df[columns].describe()"
   ]
  },
  {
   "cell_type": "code",
   "execution_count": 12,
   "id": "07c1d4f4-8233-443b-85b5-98ffd06e02b1",
   "metadata": {},
   "outputs": [
    {
     "data": {
      "text/plain": [
       "Pregnancies                 0\n",
       "Glucose                     0\n",
       "BloodPressure               0\n",
       "SkinThickness               0\n",
       "Insulin                     0\n",
       "BMI                         0\n",
       "DiabetesPedigreeFunction    0\n",
       "Age                         0\n",
       "Outcome                     0\n",
       "dtype: int64"
      ]
     },
     "execution_count": 12,
     "metadata": {},
     "output_type": "execute_result"
    }
   ],
   "source": [
    "# The missing values will be filled with the mean values of each variable.\n",
    "df = df.fillna(df.mean())\n",
    "df.isna().sum()"
   ]
  },
  {
   "cell_type": "markdown",
   "id": "bdf4bdd5-423a-449a-b939-231a12eac6db",
   "metadata": {
    "jp-MarkdownHeadingCollapsed": true,
    "tags": []
   },
   "source": [
    "### **3. Outliers Analysis**"
   ]
  },
  {
   "cell_type": "code",
   "execution_count": 13,
   "id": "bdefadd6-17da-4cc4-8144-d2a2027169e1",
   "metadata": {},
   "outputs": [
    {
     "name": "stdout",
     "output_type": "stream",
     "text": [
      "Pregnancies : Yes\n",
      "Glucose : No\n",
      "BloodPressure : Yes\n",
      "SkinThickness : Yes\n",
      "Insulin : Yes\n",
      "BMI : Yes\n",
      "DiabetesPedigreeFunction : Yes\n",
      "Age : Yes\n",
      "Outcome : No\n"
     ]
    }
   ],
   "source": [
    "for i in df.columns:\n",
    "    Q1 = df[i].quantile(0.25)\n",
    "    Q3 = df[i].quantile(0.75)\n",
    "    IQR = Q3 - Q1\n",
    "    upper = Q3 + 1.5*IQR\n",
    "    lower = Q1 - 1.5*IQR\n",
    "    \n",
    "    if df[df[i] > upper][i].any() or df[df[i] < lower][i].any():\n",
    "        print('%s : Yes'%(i))\n",
    "    else:\n",
    "        print('%s : No'%(i))"
   ]
  },
  {
   "cell_type": "markdown",
   "id": "07e49f92-1ad9-4254-b4f3-1546474fd6ed",
   "metadata": {
    "jp-MarkdownHeadingCollapsed": true,
    "tags": []
   },
   "source": [
    "### **4. Feature Engineering**"
   ]
  },
  {
   "cell_type": "code",
   "execution_count": 14,
   "id": "7c9b20ee-7157-4ff1-8ebe-07596d49f3c9",
   "metadata": {},
   "outputs": [],
   "source": [
    "# Create BMI_Category\n",
    "\n",
    "BMI_category = ['Underweight', 'Healty Wight', 'Overwight', 'Obesity']\n",
    "bins_BMI = [0, 18.5, 24.9, 30, df['BMI'].max()]\n",
    "\n",
    "df['BMI Category'] = pd.cut(df['BMI'], bins=bins_BMI, labels=BMI_category)"
   ]
  },
  {
   "cell_type": "code",
   "execution_count": 15,
   "id": "b8d9db62-50e3-4c60-8705-84310bc38e59",
   "metadata": {},
   "outputs": [],
   "source": [
    "# Create Insulin Category\n",
    "\n",
    "def set_insulin(data):\n",
    "    if data['Insulin'] >= 16 and data['Insulin'] <= 166:\n",
    "        return 'Normal'\n",
    "    else:\n",
    "        return 'Abnormal'\n",
    "\n",
    "df['Insulin Category'] = df.apply(set_insulin, axis=1)"
   ]
  },
  {
   "cell_type": "code",
   "execution_count": 16,
   "id": "6f894163-db1f-4f7c-9988-a7bbfbbd7837",
   "metadata": {},
   "outputs": [],
   "source": [
    "# Create Glucose Category\n",
    "\n",
    "Glu_category = ['Low', 'Normal', 'Overweight', 'High']\n",
    "bins_Glu = [df['Glucose'].min(), 70, 99, 126, df['Glucose'].max()]\n",
    "\n",
    "df['Glucose Category'] = pd.cut(df['Glucose'], bins=bins_Glu, labels=Glu_category)"
   ]
  },
  {
   "cell_type": "markdown",
   "id": "37124bf4-1a49-4402-9548-2ef9c90aad75",
   "metadata": {
    "jp-MarkdownHeadingCollapsed": true,
    "tags": []
   },
   "source": [
    "### **5. One-hot Encoding**"
   ]
  },
  {
   "cell_type": "code",
   "execution_count": 17,
   "id": "3694bf0a-36ba-46e1-83cc-f1c5e65057cf",
   "metadata": {},
   "outputs": [
    {
     "data": {
      "text/html": [
       "<div>\n",
       "<style scoped>\n",
       "    .dataframe tbody tr th:only-of-type {\n",
       "        vertical-align: middle;\n",
       "    }\n",
       "\n",
       "    .dataframe tbody tr th {\n",
       "        vertical-align: top;\n",
       "    }\n",
       "\n",
       "    .dataframe thead th {\n",
       "        text-align: right;\n",
       "    }\n",
       "</style>\n",
       "<table border=\"1\" class=\"dataframe\">\n",
       "  <thead>\n",
       "    <tr style=\"text-align: right;\">\n",
       "      <th></th>\n",
       "      <th>Pregnancies</th>\n",
       "      <th>Glucose</th>\n",
       "      <th>BloodPressure</th>\n",
       "      <th>SkinThickness</th>\n",
       "      <th>Insulin</th>\n",
       "      <th>BMI</th>\n",
       "      <th>DiabetesPedigreeFunction</th>\n",
       "      <th>Age</th>\n",
       "      <th>Outcome</th>\n",
       "      <th>BMI Category_Healty Wight</th>\n",
       "      <th>BMI Category_Overwight</th>\n",
       "      <th>BMI Category_Obesity</th>\n",
       "      <th>Insulin Category_Normal</th>\n",
       "      <th>Glucose Category_Normal</th>\n",
       "      <th>Glucose Category_Overweight</th>\n",
       "      <th>Glucose Category_High</th>\n",
       "    </tr>\n",
       "  </thead>\n",
       "  <tbody>\n",
       "    <tr>\n",
       "      <th>0</th>\n",
       "      <td>6</td>\n",
       "      <td>148.00</td>\n",
       "      <td>72.00</td>\n",
       "      <td>35.00</td>\n",
       "      <td>155.55</td>\n",
       "      <td>33.60</td>\n",
       "      <td>0.63</td>\n",
       "      <td>50</td>\n",
       "      <td>1</td>\n",
       "      <td>0</td>\n",
       "      <td>0</td>\n",
       "      <td>1</td>\n",
       "      <td>1</td>\n",
       "      <td>0</td>\n",
       "      <td>0</td>\n",
       "      <td>1</td>\n",
       "    </tr>\n",
       "    <tr>\n",
       "      <th>1</th>\n",
       "      <td>1</td>\n",
       "      <td>85.00</td>\n",
       "      <td>66.00</td>\n",
       "      <td>29.00</td>\n",
       "      <td>155.55</td>\n",
       "      <td>26.60</td>\n",
       "      <td>0.35</td>\n",
       "      <td>31</td>\n",
       "      <td>0</td>\n",
       "      <td>0</td>\n",
       "      <td>1</td>\n",
       "      <td>0</td>\n",
       "      <td>1</td>\n",
       "      <td>1</td>\n",
       "      <td>0</td>\n",
       "      <td>0</td>\n",
       "    </tr>\n",
       "    <tr>\n",
       "      <th>2</th>\n",
       "      <td>8</td>\n",
       "      <td>183.00</td>\n",
       "      <td>64.00</td>\n",
       "      <td>29.15</td>\n",
       "      <td>155.55</td>\n",
       "      <td>23.30</td>\n",
       "      <td>0.67</td>\n",
       "      <td>32</td>\n",
       "      <td>1</td>\n",
       "      <td>1</td>\n",
       "      <td>0</td>\n",
       "      <td>0</td>\n",
       "      <td>1</td>\n",
       "      <td>0</td>\n",
       "      <td>0</td>\n",
       "      <td>1</td>\n",
       "    </tr>\n",
       "    <tr>\n",
       "      <th>3</th>\n",
       "      <td>1</td>\n",
       "      <td>89.00</td>\n",
       "      <td>66.00</td>\n",
       "      <td>23.00</td>\n",
       "      <td>94.00</td>\n",
       "      <td>28.10</td>\n",
       "      <td>0.17</td>\n",
       "      <td>21</td>\n",
       "      <td>0</td>\n",
       "      <td>0</td>\n",
       "      <td>1</td>\n",
       "      <td>0</td>\n",
       "      <td>1</td>\n",
       "      <td>1</td>\n",
       "      <td>0</td>\n",
       "      <td>0</td>\n",
       "    </tr>\n",
       "    <tr>\n",
       "      <th>4</th>\n",
       "      <td>0</td>\n",
       "      <td>137.00</td>\n",
       "      <td>40.00</td>\n",
       "      <td>35.00</td>\n",
       "      <td>168.00</td>\n",
       "      <td>43.10</td>\n",
       "      <td>2.29</td>\n",
       "      <td>33</td>\n",
       "      <td>1</td>\n",
       "      <td>0</td>\n",
       "      <td>0</td>\n",
       "      <td>1</td>\n",
       "      <td>0</td>\n",
       "      <td>0</td>\n",
       "      <td>0</td>\n",
       "      <td>1</td>\n",
       "    </tr>\n",
       "    <tr>\n",
       "      <th>5</th>\n",
       "      <td>5</td>\n",
       "      <td>116.00</td>\n",
       "      <td>74.00</td>\n",
       "      <td>29.15</td>\n",
       "      <td>155.55</td>\n",
       "      <td>25.60</td>\n",
       "      <td>0.20</td>\n",
       "      <td>30</td>\n",
       "      <td>0</td>\n",
       "      <td>0</td>\n",
       "      <td>1</td>\n",
       "      <td>0</td>\n",
       "      <td>1</td>\n",
       "      <td>0</td>\n",
       "      <td>1</td>\n",
       "      <td>0</td>\n",
       "    </tr>\n",
       "    <tr>\n",
       "      <th>6</th>\n",
       "      <td>3</td>\n",
       "      <td>78.00</td>\n",
       "      <td>50.00</td>\n",
       "      <td>32.00</td>\n",
       "      <td>88.00</td>\n",
       "      <td>31.00</td>\n",
       "      <td>0.25</td>\n",
       "      <td>26</td>\n",
       "      <td>1</td>\n",
       "      <td>0</td>\n",
       "      <td>0</td>\n",
       "      <td>1</td>\n",
       "      <td>1</td>\n",
       "      <td>1</td>\n",
       "      <td>0</td>\n",
       "      <td>0</td>\n",
       "    </tr>\n",
       "    <tr>\n",
       "      <th>7</th>\n",
       "      <td>10</td>\n",
       "      <td>115.00</td>\n",
       "      <td>72.41</td>\n",
       "      <td>29.15</td>\n",
       "      <td>155.55</td>\n",
       "      <td>35.30</td>\n",
       "      <td>0.13</td>\n",
       "      <td>29</td>\n",
       "      <td>0</td>\n",
       "      <td>0</td>\n",
       "      <td>0</td>\n",
       "      <td>1</td>\n",
       "      <td>1</td>\n",
       "      <td>0</td>\n",
       "      <td>1</td>\n",
       "      <td>0</td>\n",
       "    </tr>\n",
       "    <tr>\n",
       "      <th>8</th>\n",
       "      <td>2</td>\n",
       "      <td>197.00</td>\n",
       "      <td>70.00</td>\n",
       "      <td>45.00</td>\n",
       "      <td>543.00</td>\n",
       "      <td>30.50</td>\n",
       "      <td>0.16</td>\n",
       "      <td>53</td>\n",
       "      <td>1</td>\n",
       "      <td>0</td>\n",
       "      <td>0</td>\n",
       "      <td>1</td>\n",
       "      <td>0</td>\n",
       "      <td>0</td>\n",
       "      <td>0</td>\n",
       "      <td>1</td>\n",
       "    </tr>\n",
       "    <tr>\n",
       "      <th>9</th>\n",
       "      <td>8</td>\n",
       "      <td>125.00</td>\n",
       "      <td>96.00</td>\n",
       "      <td>29.15</td>\n",
       "      <td>155.55</td>\n",
       "      <td>32.46</td>\n",
       "      <td>0.23</td>\n",
       "      <td>54</td>\n",
       "      <td>1</td>\n",
       "      <td>0</td>\n",
       "      <td>0</td>\n",
       "      <td>1</td>\n",
       "      <td>1</td>\n",
       "      <td>0</td>\n",
       "      <td>1</td>\n",
       "      <td>0</td>\n",
       "    </tr>\n",
       "  </tbody>\n",
       "</table>\n",
       "</div>"
      ],
      "text/plain": [
       "   Pregnancies  Glucose  BloodPressure  SkinThickness  Insulin   BMI  \\\n",
       "0            6   148.00          72.00          35.00   155.55 33.60   \n",
       "1            1    85.00          66.00          29.00   155.55 26.60   \n",
       "2            8   183.00          64.00          29.15   155.55 23.30   \n",
       "3            1    89.00          66.00          23.00    94.00 28.10   \n",
       "4            0   137.00          40.00          35.00   168.00 43.10   \n",
       "5            5   116.00          74.00          29.15   155.55 25.60   \n",
       "6            3    78.00          50.00          32.00    88.00 31.00   \n",
       "7           10   115.00          72.41          29.15   155.55 35.30   \n",
       "8            2   197.00          70.00          45.00   543.00 30.50   \n",
       "9            8   125.00          96.00          29.15   155.55 32.46   \n",
       "\n",
       "   DiabetesPedigreeFunction  Age  Outcome  BMI Category_Healty Wight  \\\n",
       "0                      0.63   50        1                          0   \n",
       "1                      0.35   31        0                          0   \n",
       "2                      0.67   32        1                          1   \n",
       "3                      0.17   21        0                          0   \n",
       "4                      2.29   33        1                          0   \n",
       "5                      0.20   30        0                          0   \n",
       "6                      0.25   26        1                          0   \n",
       "7                      0.13   29        0                          0   \n",
       "8                      0.16   53        1                          0   \n",
       "9                      0.23   54        1                          0   \n",
       "\n",
       "   BMI Category_Overwight  BMI Category_Obesity  Insulin Category_Normal  \\\n",
       "0                       0                     1                        1   \n",
       "1                       1                     0                        1   \n",
       "2                       0                     0                        1   \n",
       "3                       1                     0                        1   \n",
       "4                       0                     1                        0   \n",
       "5                       1                     0                        1   \n",
       "6                       0                     1                        1   \n",
       "7                       0                     1                        1   \n",
       "8                       0                     1                        0   \n",
       "9                       0                     1                        1   \n",
       "\n",
       "   Glucose Category_Normal  Glucose Category_Overweight  Glucose Category_High  \n",
       "0                        0                            0                      1  \n",
       "1                        1                            0                      0  \n",
       "2                        0                            0                      1  \n",
       "3                        1                            0                      0  \n",
       "4                        0                            0                      1  \n",
       "5                        0                            1                      0  \n",
       "6                        1                            0                      0  \n",
       "7                        0                            1                      0  \n",
       "8                        0                            0                      1  \n",
       "9                        0                            1                      0  "
      ]
     },
     "execution_count": 17,
     "metadata": {},
     "output_type": "execute_result"
    }
   ],
   "source": [
    "df = pd.get_dummies(df, columns=['BMI Category','Insulin Category','Glucose Category'], drop_first=True)\n",
    "df.head(10)"
   ]
  },
  {
   "cell_type": "code",
   "execution_count": 18,
   "id": "28d1d809-ea67-4543-bda8-344104fc4342",
   "metadata": {},
   "outputs": [],
   "source": [
    "categorical = df[df.columns[9:]]"
   ]
  },
  {
   "cell_type": "markdown",
   "id": "07fbfc4a-6b9f-47c8-b8d5-a07c7fd11d58",
   "metadata": {
    "jp-MarkdownHeadingCollapsed": true,
    "tags": []
   },
   "source": [
    "### **6. Preprocessing Data**"
   ]
  },
  {
   "cell_type": "code",
   "execution_count": 19,
   "id": "70552dec-8447-4314-a0be-325f444686a2",
   "metadata": {},
   "outputs": [],
   "source": [
    "y = df[['Outcome']]\n",
    "x = df.drop(df.columns[8:],axis=1)"
   ]
  },
  {
   "cell_type": "code",
   "execution_count": 20,
   "id": "5f9577a1-1436-4ee6-a729-95762d145cd8",
   "metadata": {},
   "outputs": [],
   "source": [
    "from sklearn.preprocessing import MinMaxScaler # Scaling data x using MinMaxScaler\n",
    "scaling = MinMaxScaler()\n",
    "\n",
    "cols = x.columns # Create a cols variable, which contains the data columns in the x dataframe that you want to scale.\n",
    "x[cols] = scaling.fit_transform(x[cols]) # Scaling data\n",
    "\n",
    "x = pd.concat([x, categorical], axis=1) # Combine x dateframe with categorical dataframe using concat"
   ]
  },
  {
   "cell_type": "code",
   "execution_count": 21,
   "id": "4acd27a0-64d9-45e0-8619-5faf9d1b713f",
   "metadata": {},
   "outputs": [],
   "source": [
    "x_train, x_test, y_train, y_test = train_test_split(x, y, test_size=0.2, random_state=24)"
   ]
  },
  {
   "cell_type": "markdown",
   "id": "0c41c368-bab0-41ca-b1b6-d8e5e5c66cc0",
   "metadata": {
    "jp-MarkdownHeadingCollapsed": true,
    "tags": []
   },
   "source": [
    "### **7. Models**"
   ]
  },
  {
   "cell_type": "code",
   "execution_count": 22,
   "id": "af47f861-74bf-454f-b35c-3f46cc3186fd",
   "metadata": {},
   "outputs": [],
   "source": [
    "models = []\n",
    "models.append(('LR', LogisticRegression(random_state = 24)))\n",
    "models.append(('RF', RandomForestClassifier(random_state = 24)))\n",
    "models.append(('KNN', KNeighborsClassifier()))\n",
    "models.append(('SVM', SVC(gamma='auto', random_state=24)))"
   ]
  },
  {
   "cell_type": "code",
   "execution_count": 23,
   "id": "ced2fa20-43a6-4f0d-934f-f495ceae1099",
   "metadata": {},
   "outputs": [
    {
     "name": "stdout",
     "output_type": "stream",
     "text": [
      "LR : 0.760355 (0.046290)\n",
      "RF : 0.759040 (0.056367)\n",
      "KNN : 0.747386 (0.033601)\n",
      "SVM : 0.762919 (0.052158)\n"
     ]
    },
    {
     "data": {
      "image/png": "[encoded data removed]",
      "text/plain": [
       "<Figure size 720x360 with 1 Axes>"
      ]
     },
     "metadata": {
      "image/png": {
       "height": 355,
       "width": 712
      },
      "needs_background": "light"
     },
     "output_type": "display_data"
    }
   ],
   "source": [
    "# evaluate each model in turn\n",
    "\n",
    "results = []\n",
    "names = []\n",
    "\n",
    "for name, model in models:\n",
    "    cv_results = cross_val_score(model, x, y, cv = 10, scoring='accuracy')\n",
    "    results.append(cv_results)\n",
    "    names.append(name)\n",
    "    result_report = \"%s : %f (%f)\" % (name, cv_results.mean(), cv_results.std())\n",
    "    print(result_report)\n",
    "    \n",
    "# boxplot algorithm comparison\n",
    "fig = plt.figure(figsize=(10,5))\n",
    "fig.suptitle('Algorithm Comparison')\n",
    "ax = fig.add_subplot(111)\n",
    "plt.boxplot(results)\n",
    "ax.set_xticklabels(names)\n",
    "plt.tight_layout()\n",
    "plt.show()"
   ]
  },
  {
   "cell_type": "markdown",
   "id": "cf95eb92-28df-4f3c-8d05-d74a42f588fb",
   "metadata": {
    "jp-MarkdownHeadingCollapsed": true,
    "tags": []
   },
   "source": [
    "### **8. RandomForestClassifier**"
   ]
  },
  {
   "cell_type": "code",
   "execution_count": 33,
   "id": "1d105def-10d4-48d5-a7e0-cfab0d82baef",
   "metadata": {},
   "outputs": [],
   "source": [
    "RF = RandomForestClassifier(random_state=24)\n",
    "labels = RF.fit(x_train, y_train)\n",
    "\n",
    "y_pred_RF = labels.predict(x_test)"
   ]
  },
  {
   "cell_type": "markdown",
   "id": "f05fe544-efdd-4c3a-943d-6952e93a496f",
   "metadata": {
    "tags": []
   },
   "source": [
    "#### **8.1. Accuracy of RandomForestClassifier**"
   ]
  },
  {
   "cell_type": "code",
   "execution_count": 34,
   "id": "122faf7d-cfd3-4940-a5b9-bd8a23ef75eb",
   "metadata": {},
   "outputs": [
    {
     "name": "stdout",
     "output_type": "stream",
     "text": [
      "Training Accuracy : 1.0\n",
      "Testing Accuracy : 0.7272727272727273\n"
     ]
    }
   ],
   "source": [
    "print('Training Accuracy :', labels.score(x_train, y_train))\n",
    "print('Testing Accuracy :', labels.score(x_test, y_test))"
   ]
  },
  {
   "cell_type": "code",
   "execution_count": 37,
   "id": "c2de01ee-c209-4baf-86d1-05a7591e40bb",
   "metadata": {},
   "outputs": [
    {
     "data": {
      "image/png": "[encoded data removed]",
      "text/plain": [
       "<Figure size 720x432 with 2 Axes>"
      ]
     },
     "metadata": {
      "image/png": {
       "height": 382,
       "width": 541
      },
      "needs_background": "light"
     },
     "output_type": "display_data"
    }
   ],
   "source": [
    "cm_RF = confusion_matrix(y_test,y_pred_RF, labels=[1,0])\n",
    "\n",
    "plt.figure(figsize=(10, 6))\n",
    "plt.title('Confusion Matrix', c='black', pad=10,fontsize=20)\n",
    "plt.xlabel('PREDICTED', c='g', fontsize=15)\n",
    "sn.heatmap(cm_RF, cmap='RdBu', linecolor='white', linewidth=10, annot=True)\n",
    "plt.show()"
   ]
  },
  {
   "cell_type": "code",
   "execution_count": 39,
   "id": "afd40582-f8f3-442b-bbb2-69b7a9ebd630",
   "metadata": {},
   "outputs": [
    {
     "name": "stdout",
     "output_type": "stream",
     "text": [
      "              precision    recall  f1-score   support\n",
      "\n",
      "           1       0.50      0.67      0.57        42\n",
      "           0       0.86      0.75      0.80       112\n",
      "\n",
      "    accuracy                           0.73       154\n",
      "   macro avg       0.68      0.71      0.69       154\n",
      "weighted avg       0.76      0.73      0.74       154\n",
      "\n"
     ]
    }
   ],
   "source": [
    "# Classification Report\n",
    "\n",
    "print(classification_report(y_pred_RF, y_test, labels=[1,0]))"
   ]
  },
  {
   "cell_type": "markdown",
   "id": "79e721de-2a10-4138-9e5e-261e062bc695",
   "metadata": {
    "jp-MarkdownHeadingCollapsed": true,
    "tags": []
   },
   "source": [
    "### **9. KNeighborsClassifier**"
   ]
  },
  {
   "cell_type": "code",
   "execution_count": 30,
   "id": "c50f40e2-b23d-4f85-afe0-0f64c2717da3",
   "metadata": {},
   "outputs": [],
   "source": [
    "KNN = KNeighborsClassifier()\n",
    "models = KNN.fit(x_train, y_train)\n",
    "\n",
    "y_pred_KNN = models.predict(x_test)"
   ]
  },
  {
   "cell_type": "markdown",
   "id": "7a34a344-433d-4aaf-8c05-488328ad32b6",
   "metadata": {},
   "source": [
    "#### **9.1. Accuracy of KNeighborsClassifier**"
   ]
  },
  {
   "cell_type": "code",
   "execution_count": 36,
   "id": "0954a8eb-e4ae-447d-9a40-fae21e09e4e7",
   "metadata": {},
   "outputs": [
    {
     "name": "stdout",
     "output_type": "stream",
     "text": [
      "Training Accuracy : 0.8387622149837134\n",
      "Testing Accuracy : 0.7077922077922078\n"
     ]
    }
   ],
   "source": [
    "print('Training Accuracy :', models.score(x_train, y_train))\n",
    "print('Testing Accuracy :', models.score(x_test, y_test))"
   ]
  },
  {
   "cell_type": "code",
   "execution_count": 38,
   "id": "66745892-f804-4b4c-b76d-02226b6d4232",
   "metadata": {},
   "outputs": [
    {
     "data": {
      "image/png": "[encoded data removed]",
      "text/plain": [
       "<Figure size 720x432 with 2 Axes>"
      ]
     },
     "metadata": {
      "image/png": {
       "height": 382,
       "width": 541
      },
      "needs_background": "light"
     },
     "output_type": "display_data"
    }
   ],
   "source": [
    "cm_KNN = confusion_matrix(y_test,y_pred_RF, labels=[1,0])\n",
    "\n",
    "plt.figure(figsize=(10, 6))\n",
    "plt.title('Confusion Matrix', c='black', pad=10,fontsize=20)\n",
    "plt.xlabel('PREDICTED', c='g', fontsize=15)\n",
    "sn.heatmap(cm_KNN, cmap='RdBu', linecolor='white', linewidth=10, annot=True)\n",
    "plt.show()"
   ]
  },
  {
   "cell_type": "code",
   "execution_count": 40,
   "id": "69d2f2fa-8577-4e3b-b38d-bb8b209873c7",
   "metadata": {},
   "outputs": [
    {
     "name": "stdout",
     "output_type": "stream",
     "text": [
      "              precision    recall  f1-score   support\n",
      "\n",
      "           1       0.48      0.63      0.55        43\n",
      "           0       0.84      0.74      0.78       111\n",
      "\n",
      "    accuracy                           0.71       154\n",
      "   macro avg       0.66      0.68      0.67       154\n",
      "weighted avg       0.74      0.71      0.72       154\n",
      "\n"
     ]
    }
   ],
   "source": [
    "# Classification Report\n",
    "\n",
    "print(classification_report(y_pred_KNN, y_test, labels=[1,0]))"
   ]
  },
  {
   "cell_type": "code",
   "execution_count": null,
   "id": "5f0b69b8-b727-4c2a-b24b-7e710100d550",
   "metadata": {},
   "outputs": [],
   "source": []
  }
 ],
 "metadata": {
  "kernelspec": {
   "display_name": "Python 3 (ipykernel)",
   "language": "python",
   "name": "python3"
  },
  "language_info": {
   "codemirror_mode": {
    "name": "ipython",
    "version": 3
   },
   "file_extension": ".py",
   "mimetype": "text/x-python",
   "name": "python",
   "nbconvert_exporter": "python",
   "pygments_lexer": "ipython3",
   "version": "3.9.7"
  }
 },
 "nbformat": 4,
 "nbformat_minor": 5
}
